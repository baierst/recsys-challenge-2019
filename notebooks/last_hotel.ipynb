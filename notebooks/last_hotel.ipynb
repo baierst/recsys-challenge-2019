{
 "cells": [
  {
   "cell_type": "code",
   "execution_count": 342,
   "metadata": {},
   "outputs": [],
   "source": [
    "from pathlib import Path\n",
    "\n",
    "import click\n",
    "import pandas as pd\n",
    "from recsys.config import Config\n",
    "\n",
    "import recsys.algorithms.last_hotel_algorithm.rec_last_hotel as rec\n",
    "import recsys.algorithms.utils as utils"
   ]
  },
  {
   "cell_type": "code",
   "execution_count": 343,
   "metadata": {},
   "outputs": [],
   "source": [
    "config = Config()\n",
    "\n",
    "# calculate path to files\n",
    "default_data_directory = config.data_path\n",
    "data_directory = default_data_directory\n",
    "test_csv = data_directory.joinpath('test.csv')\n",
    "train_csv = data_directory.joinpath('train.csv')\n",
    "subm_csv = data_directory.joinpath('submission_last_hotel.csv')\n",
    "\n",
    "df_test = pd.read_csv(test_csv)\n",
    "#df_train = pd.read_csv(train_csv)\n",
    "\n",
    "\n",
    "df_target = utils.get_local_submission_target(df_test)"
   ]
  },
  {
   "cell_type": "code",
   "execution_count": 344,
   "metadata": {},
   "outputs": [],
   "source": [
    "def last_element(l):\n",
    "    if len(l) != 0:\n",
    "        l = l[:-1]\n",
    "    if len(l) != 0:   \n",
    "        return l[::-1]\n",
    "    else:\n",
    "        return -1"
   ]
  },
  {
   "cell_type": "code",
   "execution_count": 345,
   "metadata": {
    "scrolled": true
   },
   "outputs": [],
   "source": [
    "df_grouped = df_test.groupby(['user_id', 'session_id'], as_index=False)['reference'].apply(list)\n",
    "df_references = df_grouped.reset_index(name='references')"
   ]
  },
  {
   "cell_type": "code",
   "execution_count": 346,
   "metadata": {},
   "outputs": [],
   "source": [
    "df_references['last_ref_hotel'] = df_references['references'].apply(lambda x: last_element([e for e in x if str(e).isdigit()]))"
   ]
  },
  {
   "cell_type": "code",
   "execution_count": 347,
   "metadata": {},
   "outputs": [],
   "source": [
    "df_last_ref = df_references[df_references['last_ref_hotel'] != -1][['user_id', 'session_id', 'last_ref_hotel']]"
   ]
  },
  {
   "cell_type": "code",
   "execution_count": 348,
   "metadata": {},
   "outputs": [
    {
     "name": "stderr",
     "output_type": "stream",
     "text": [
      "/data/recsys-challenge-2019/recsys_env/lib/python3.6/site-packages/ipykernel_launcher.py:1: SettingWithCopyWarning: \n",
      "A value is trying to be set on a copy of a slice from a DataFrame.\n",
      "Try using .loc[row_indexer,col_indexer] = value instead\n",
      "\n",
      "See the caveats in the documentation: http://pandas.pydata.org/pandas-docs/stable/indexing.html#indexing-view-versus-copy\n",
      "  \"\"\"Entry point for launching an IPython kernel.\n"
     ]
    }
   ],
   "source": [
    "df_target['impressions'] = df_target['impressions'].apply(utils.string_to_array)"
   ]
  },
  {
   "cell_type": "code",
   "execution_count": 349,
   "metadata": {},
   "outputs": [],
   "source": [
    "df_joined = df_target.merge(df_last_ref, on=['user_id', 'session_id'], how='left')"
   ]
  },
  {
   "cell_type": "code",
   "execution_count": 350,
   "metadata": {},
   "outputs": [],
   "source": [
    "def reorder(x):\n",
    "    impressions = x['impressions'].copy()\n",
    "    if type(x['last_ref_hotel']) == list:\n",
    "        for last_ref_hotel in x['last_ref_hotel']:\n",
    "            if str(last_ref_hotel) in impressions:\n",
    "                impressions.remove(str(last_ref_hotel))\n",
    "                impressions = [str(last_ref_hotel)] + impressions\n",
    "    return impressions"
   ]
  },
  {
   "cell_type": "code",
   "execution_count": 351,
   "metadata": {},
   "outputs": [],
   "source": [
    "df_joined['impressions_reordered'] = df_joined.apply(reorder, axis=1)"
   ]
  },
  {
   "cell_type": "markdown",
   "metadata": {},
   "source": [
    "### Scoring"
   ]
  },
  {
   "cell_type": "code",
   "execution_count": 352,
   "metadata": {},
   "outputs": [
    {
     "data": {
      "text/plain": [
       "0.6489613224696991"
      ]
     },
     "execution_count": 352,
     "metadata": {},
     "output_type": "execute_result"
    }
   ],
   "source": [
    "from recsys.submission.score_submission.functions import get_reciprocal_ranks\n",
    "\n",
    "df_score = pd.DataFrame()\n",
    "\n",
    "df_score['reference'] = df_joined['reference']\n",
    "\n",
    "df_score['item_recommendations'] = df_joined['impressions_reordered'].copy()\n",
    "\n",
    "df_score.apply(get_reciprocal_ranks, axis=1).mean()"
   ]
  },
  {
   "cell_type": "code",
   "execution_count": null,
   "metadata": {},
   "outputs": [],
   "source": []
  }
 ],
 "metadata": {
  "@webio": {
   "lastCommId": null,
   "lastKernelId": null
  },
  "kernelspec": {
   "display_name": "recsys_env",
   "language": "python",
   "name": "recsys_env"
  },
  "language_info": {
   "codemirror_mode": {
    "name": "ipython",
    "version": 3
   },
   "file_extension": ".py",
   "mimetype": "text/x-python",
   "name": "python",
   "nbconvert_exporter": "python",
   "pygments_lexer": "ipython3",
   "version": "3.6.7"
  }
 },
 "nbformat": 4,
 "nbformat_minor": 2
}
