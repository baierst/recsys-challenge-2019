{
 "cells": [
  {
   "cell_type": "code",
   "execution_count": 1,
   "metadata": {},
   "outputs": [],
   "source": [
    "from pathlib import Path\n",
    "\n",
    "import click\n",
    "import pandas as pd\n",
    "from recsys.config import Config\n",
    "\n",
    "import recsys.algorithms.last_hotel_algorithm.rec_last_hotel as rec\n",
    "import recsys.algorithms.utils as utils"
   ]
  },
  {
   "cell_type": "code",
   "execution_count": 2,
   "metadata": {},
   "outputs": [],
   "source": [
    "config = Config()\n",
    "\n",
    "# calculate path to files\n",
    "default_data_directory = config.data_path\n",
    "data_directory = default_data_directory\n",
    "test_csv = data_directory.joinpath('test.csv')\n",
    "subm_csv = data_directory.joinpath('submission_last_hotel.csv')\n",
    "\n",
    "df_test = pd.read_csv(test_csv)\n",
    "\n",
    "df_target = utils.get_submission_target(df_test)"
   ]
  },
  {
   "cell_type": "code",
   "execution_count": 132,
   "metadata": {},
   "outputs": [],
   "source": [
    "def most_element(l):\n",
    "    if len(l) != 0:\n",
    "        return l[-1]\n",
    "    else:\n",
    "        return -1"
   ]
  },
  {
   "cell_type": "code",
   "execution_count": 7,
   "metadata": {},
   "outputs": [],
   "source": [
    "def most_frequent(l): \n",
    "    \n",
    "    if len(l) != 0:\n",
    "        counter = 0\n",
    "        num = l[0] \n",
    "\n",
    "        for i in l: \n",
    "            curr_frequency = l.count(i) \n",
    "            if(curr_frequency> counter): \n",
    "                counter = curr_frequency \n",
    "                num = i \n",
    "        return num\n",
    "    else:\n",
    "        return -1"
   ]
  },
  {
   "cell_type": "code",
   "execution_count": 8,
   "metadata": {
    "scrolled": true
   },
   "outputs": [],
   "source": [
    "df_grouped = df_test.groupby(['user_id', 'session_id'], as_index=False)['reference'].apply(list)\n",
    "df_references = df_grouped.reset_index(name='references')"
   ]
  },
  {
   "cell_type": "code",
   "execution_count": 9,
   "metadata": {},
   "outputs": [],
   "source": [
    "df_references['most_ref_hotel'] = df_references['references'].apply(lambda x: most_frequent([e for e in x if str(e).isdigit()]))"
   ]
  },
  {
   "cell_type": "code",
   "execution_count": 10,
   "metadata": {},
   "outputs": [],
   "source": [
    "df_last_ref = df_references[df_references['most_ref_hotel'] != -1][['user_id', 'session_id', 'most_ref_hotel']]"
   ]
  },
  {
   "cell_type": "code",
   "execution_count": 11,
   "metadata": {},
   "outputs": [
    {
     "name": "stderr",
     "output_type": "stream",
     "text": [
      "/data/recsys-challenge-2019/recsys_env/lib/python3.6/site-packages/ipykernel_launcher.py:1: SettingWithCopyWarning: \n",
      "A value is trying to be set on a copy of a slice from a DataFrame.\n",
      "Try using .loc[row_indexer,col_indexer] = value instead\n",
      "\n",
      "See the caveats in the documentation: http://pandas.pydata.org/pandas-docs/stable/indexing.html#indexing-view-versus-copy\n",
      "  \"\"\"Entry point for launching an IPython kernel.\n"
     ]
    }
   ],
   "source": [
    "df_target['impressions'] = df_target['impressions'].apply(utils.string_to_array)"
   ]
  },
  {
   "cell_type": "code",
   "execution_count": 12,
   "metadata": {},
   "outputs": [],
   "source": [
    "df_joined = df_target.merge(df_last_ref, on=['user_id', 'session_id'], how='left')"
   ]
  },
  {
   "cell_type": "code",
   "execution_count": 13,
   "metadata": {},
   "outputs": [],
   "source": [
    "def reorder(x):\n",
    "    impressions = x['impressions'].copy()\n",
    "    last_ref_hotel = str(x['most_ref_hotel'])\n",
    "    if last_ref_hotel in impressions:\n",
    "        impressions.remove(last_ref_hotel)\n",
    "        impressions = [last_ref_hotel] + impressions\n",
    "    return impressions"
   ]
  },
  {
   "cell_type": "code",
   "execution_count": 14,
   "metadata": {},
   "outputs": [],
   "source": [
    "df_joined['impressions_reordered'] = df_joined.apply(reorder, axis=1)"
   ]
  },
  {
   "cell_type": "code",
   "execution_count": 15,
   "metadata": {},
   "outputs": [],
   "source": [
    "df_joined['impressions_reordered'] = df_joined['impressions_reordered'].apply(lambda x: ' '.join(x))"
   ]
  },
  {
   "cell_type": "code",
   "execution_count": null,
   "metadata": {},
   "outputs": [],
   "source": []
  }
 ],
 "metadata": {
  "@webio": {
   "lastCommId": null,
   "lastKernelId": null
  },
  "kernelspec": {
   "display_name": "recsys_env",
   "language": "python",
   "name": "recsys_env"
  },
  "language_info": {
   "codemirror_mode": {
    "name": "ipython",
    "version": 3
   },
   "file_extension": ".py",
   "mimetype": "text/x-python",
   "name": "python",
   "nbconvert_exporter": "python",
   "pygments_lexer": "ipython3",
   "version": "3.6.7"
  }
 },
 "nbformat": 4,
 "nbformat_minor": 2
}
